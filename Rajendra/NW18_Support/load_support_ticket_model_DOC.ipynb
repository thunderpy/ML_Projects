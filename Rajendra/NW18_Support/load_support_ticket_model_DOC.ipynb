{
  "nbformat": 4,
  "nbformat_minor": 0,
  "metadata": {
    "colab": {
      "name": "load_support_ticket_model_DOC.ipynb",
      "provenance": [],
      "collapsed_sections": []
    },
    "kernelspec": {
      "name": "python3",
      "display_name": "Python 3"
    }
  },
  "cells": [
    {
      "cell_type": "code",
      "metadata": {
        "id": "UNVmoYBufQZ8",
        "colab_type": "code",
        "colab": {}
      },
      "source": [
        "# Load model of support ticket"
      ],
      "execution_count": 0,
      "outputs": []
    },
    {
      "cell_type": "code",
      "metadata": {
        "id": "iLXqRoNzfUgI",
        "colab_type": "code",
        "outputId": "39fd9d3a-dd57-4ee6-a009-335465557392",
        "colab": {
          "base_uri": "https://localhost:8080/",
          "height": 35
        }
      },
      "source": [
        "# Mounting Google Drive locally\n",
        "\n",
        "from google.colab import drive\n",
        "\n",
        "drive.mount('/content/gdrive')"
      ],
      "execution_count": 0,
      "outputs": [
        {
          "output_type": "stream",
          "text": [
            "Drive already mounted at /content/gdrive; to attempt to forcibly remount, call drive.mount(\"/content/gdrive\", force_remount=True).\n"
          ],
          "name": "stdout"
        }
      ]
    },
    {
      "cell_type": "code",
      "metadata": {
        "id": "eykzMIcQ_f3z",
        "colab_type": "code",
        "colab": {}
      },
      "source": [
        "saveModelPath = '/content/gdrive/My Drive/SupportTicketData'"
      ],
      "execution_count": 0,
      "outputs": []
    },
    {
      "cell_type": "code",
      "metadata": {
        "id": "1jw3BWRJAK5A",
        "colab_type": "code",
        "outputId": "c31aa874-2a9e-4aad-d86b-182103bfd8af",
        "colab": {
          "base_uri": "https://localhost:8080/",
          "height": 109
        }
      },
      "source": [
        "ls -la '/content/gdrive/My Drive/SupportTicketData'"
      ],
      "execution_count": 0,
      "outputs": [
        {
          "output_type": "stream",
          "text": [
            "total 61323\n",
            "-rw------- 1 root root   245630 Apr 21 12:48 CountVectorizerModel.pkl\n",
            "-rw------- 1 root root      353 Apr 21 12:48 labelEncorderModel.pkl\n",
            "-rw------- 1 root root 62394805 Apr 21 12:49 support_ticket_model.pkl\n",
            "-rw------- 1 root root   153213 Apr 22 11:13 test.csv\n"
          ],
          "name": "stdout"
        }
      ]
    },
    {
      "cell_type": "code",
      "metadata": {
        "id": "JJjZJVZOAM30",
        "colab_type": "code",
        "colab": {}
      },
      "source": [
        "# Import required models\n",
        "\n",
        "import pickle\n",
        "import numpy as np\n",
        "import pandas as pd"
      ],
      "execution_count": 0,
      "outputs": []
    },
    {
      "cell_type": "code",
      "metadata": {
        "id": "9JE-kYmeAVA6",
        "colab_type": "code",
        "colab": {}
      },
      "source": [
        "# Read split test set\n",
        "test_df = pd.read_csv(saveModelPath+'/test.csv')"
      ],
      "execution_count": 0,
      "outputs": []
    },
    {
      "cell_type": "code",
      "metadata": {
        "id": "h8QxjljYAXYc",
        "colab_type": "code",
        "outputId": "33525cad-6e58-4d23-98da-4462d2fbf70b",
        "colab": {
          "base_uri": "https://localhost:8080/",
          "height": 206
        }
      },
      "source": [
        "test_df.head()"
      ],
      "execution_count": 0,
      "outputs": [
        {
          "output_type": "execute_result",
          "data": {
            "text/html": [
              "<div>\n",
              "<style scoped>\n",
              "    .dataframe tbody tr th:only-of-type {\n",
              "        vertical-align: middle;\n",
              "    }\n",
              "\n",
              "    .dataframe tbody tr th {\n",
              "        vertical-align: top;\n",
              "    }\n",
              "\n",
              "    .dataframe thead th {\n",
              "        text-align: right;\n",
              "    }\n",
              "</style>\n",
              "<table border=\"1\" class=\"dataframe\">\n",
              "  <thead>\n",
              "    <tr style=\"text-align: right;\">\n",
              "      <th></th>\n",
              "      <th>Unnamed: 0</th>\n",
              "      <th>Description</th>\n",
              "      <th>Category</th>\n",
              "    </tr>\n",
              "  </thead>\n",
              "  <tbody>\n",
              "    <tr>\n",
              "      <th>0</th>\n",
              "      <td>1294</td>\n",
              "      <td>re secured area tower approved thank officer n...</td>\n",
              "      <td>User Maintenance</td>\n",
              "    </tr>\n",
              "    <tr>\n",
              "      <th>1</th>\n",
              "      <td>670</td>\n",
              "      <td>re please tickets assign tickets please trees ...</td>\n",
              "      <td>Database</td>\n",
              "    </tr>\n",
              "    <tr>\n",
              "      <th>2</th>\n",
              "      <td>1933</td>\n",
              "      <td>door open floor tower dear could you please fi...</td>\n",
              "      <td>Security</td>\n",
              "    </tr>\n",
              "    <tr>\n",
              "      <th>3</th>\n",
              "      <td>1203</td>\n",
              "      <td>re card va se</td>\n",
              "      <td>User Maintenance</td>\n",
              "    </tr>\n",
              "    <tr>\n",
              "      <th>4</th>\n",
              "      <td>65</td>\n",
              "      <td>old hi please old breakdown thank officer</td>\n",
              "      <td>Application</td>\n",
              "    </tr>\n",
              "  </tbody>\n",
              "</table>\n",
              "</div>"
            ],
            "text/plain": [
              "   Unnamed: 0  ...          Category\n",
              "0        1294  ...  User Maintenance\n",
              "1         670  ...          Database\n",
              "2        1933  ...          Security\n",
              "3        1203  ...  User Maintenance\n",
              "4          65  ...       Application\n",
              "\n",
              "[5 rows x 3 columns]"
            ]
          },
          "metadata": {
            "tags": []
          },
          "execution_count": 88
        }
      ]
    },
    {
      "cell_type": "code",
      "metadata": {
        "id": "RPZMneX8DjIh",
        "colab_type": "code",
        "colab": {}
      },
      "source": [
        "# Load CountVectorizer Model\n",
        "\n",
        "loadCountVectorizer = pickle.load(open(saveModelPath+'/CountVectorizerModel.pkl', 'rb'))"
      ],
      "execution_count": 0,
      "outputs": []
    },
    {
      "cell_type": "code",
      "metadata": {
        "id": "FiJFFX8aDtvg",
        "colab_type": "code",
        "colab": {}
      },
      "source": [
        "# load the model\n",
        "\n",
        "loaded_model = pickle.load(open(saveModelPath+'/support_ticket_model.pkl', 'rb'))"
      ],
      "execution_count": 0,
      "outputs": []
    },
    {
      "cell_type": "code",
      "metadata": {
        "id": "n62GsS8rDzos",
        "colab_type": "code",
        "colab": {}
      },
      "source": [
        "# Load label encorder model\n",
        "\n",
        "loadLabelencorder = pickle.load(open(saveModelPath+'/labelEncorderModel.pkl', 'rb'))\n"
      ],
      "execution_count": 0,
      "outputs": []
    },
    {
      "cell_type": "code",
      "metadata": {
        "id": "DSRTuWPAAcP3",
        "colab_type": "code",
        "colab": {}
      },
      "source": [
        "# New mail Eg.\n",
        "\n",
        "mail = \"Internet Issue\""
      ],
      "execution_count": 0,
      "outputs": []
    },
    {
      "cell_type": "code",
      "metadata": {
        "id": "ZjqMrd6DEFDT",
        "colab_type": "code",
        "colab": {}
      },
      "source": [
        "# Create a function to check new value from saved model.\n",
        "\n",
        "def newValueCheck(text):\n",
        "    x_val = loadCountVectorizer.transform([text])\n",
        "    # transform:- Extract token counts out of raw text documents using the vocabulary fitted with fit or the one provided to the constructor.\n",
        "    # transform:- Transform documents to document-term matrix.\n",
        "    x_val = x_val.toarray()\n",
        "\n",
        "    # Predict text\n",
        "    model_output = loaded_model.predict(x_val)\n",
        "    # print('Model output:- ', model_output)\n",
        "\n",
        "    # inverse_transform label encorder\n",
        "    result = loadLabelencorder.inverse_transform(model_output)\n",
        "    # inverse_transform:- Transform labels back to original encoding.\n",
        "\n",
        "    return result[0]"
      ],
      "execution_count": 0,
      "outputs": []
    },
    {
      "cell_type": "code",
      "metadata": {
        "id": "3joL6tNcBw5X",
        "colab_type": "code",
        "outputId": "a27f5c0a-9953-415c-8bdd-6457a7532dd9",
        "colab": {
          "base_uri": "https://localhost:8080/",
          "height": 35
        }
      },
      "source": [
        "newValueCheck(mail)"
      ],
      "execution_count": 0,
      "outputs": [
        {
          "output_type": "execute_result",
          "data": {
            "text/plain": [
              "'Network'"
            ]
          },
          "metadata": {
            "tags": []
          },
          "execution_count": 94
        }
      ]
    },
    {
      "cell_type": "code",
      "metadata": {
        "id": "W-F7CyXFMyiG",
        "colab_type": "code",
        "colab": {}
      },
      "source": [
        "# Create new colum for Predicted values\n",
        "test_df['Predictions'] = test_df['Description'].apply(newValueCheck)"
      ],
      "execution_count": 0,
      "outputs": []
    },
    {
      "cell_type": "code",
      "metadata": {
        "id": "Z3j4NrvPMzky",
        "colab_type": "code",
        "outputId": "9d1301a6-c586-413a-8721-921ce3235e20",
        "colab": {
          "base_uri": "https://localhost:8080/",
          "height": 206
        }
      },
      "source": [
        "test_df.head()"
      ],
      "execution_count": 0,
      "outputs": [
        {
          "output_type": "execute_result",
          "data": {
            "text/html": [
              "<div>\n",
              "<style scoped>\n",
              "    .dataframe tbody tr th:only-of-type {\n",
              "        vertical-align: middle;\n",
              "    }\n",
              "\n",
              "    .dataframe tbody tr th {\n",
              "        vertical-align: top;\n",
              "    }\n",
              "\n",
              "    .dataframe thead th {\n",
              "        text-align: right;\n",
              "    }\n",
              "</style>\n",
              "<table border=\"1\" class=\"dataframe\">\n",
              "  <thead>\n",
              "    <tr style=\"text-align: right;\">\n",
              "      <th></th>\n",
              "      <th>Unnamed: 0</th>\n",
              "      <th>Description</th>\n",
              "      <th>Category</th>\n",
              "      <th>Predictions</th>\n",
              "    </tr>\n",
              "  </thead>\n",
              "  <tbody>\n",
              "    <tr>\n",
              "      <th>0</th>\n",
              "      <td>1294</td>\n",
              "      <td>re secured area tower approved thank officer n...</td>\n",
              "      <td>User Maintenance</td>\n",
              "      <td>User Maintenance</td>\n",
              "    </tr>\n",
              "    <tr>\n",
              "      <th>1</th>\n",
              "      <td>670</td>\n",
              "      <td>re please tickets assign tickets please trees ...</td>\n",
              "      <td>Database</td>\n",
              "      <td>Application</td>\n",
              "    </tr>\n",
              "    <tr>\n",
              "      <th>2</th>\n",
              "      <td>1933</td>\n",
              "      <td>door open floor tower dear could you please fi...</td>\n",
              "      <td>Security</td>\n",
              "      <td>Network</td>\n",
              "    </tr>\n",
              "    <tr>\n",
              "      <th>3</th>\n",
              "      <td>1203</td>\n",
              "      <td>re card va se</td>\n",
              "      <td>User Maintenance</td>\n",
              "      <td>User Maintenance</td>\n",
              "    </tr>\n",
              "    <tr>\n",
              "      <th>4</th>\n",
              "      <td>65</td>\n",
              "      <td>old hi please old breakdown thank officer</td>\n",
              "      <td>Application</td>\n",
              "      <td>Application</td>\n",
              "    </tr>\n",
              "  </tbody>\n",
              "</table>\n",
              "</div>"
            ],
            "text/plain": [
              "   Unnamed: 0  ...       Predictions\n",
              "0        1294  ...  User Maintenance\n",
              "1         670  ...       Application\n",
              "2        1933  ...           Network\n",
              "3        1203  ...  User Maintenance\n",
              "4          65  ...       Application\n",
              "\n",
              "[5 rows x 4 columns]"
            ]
          },
          "metadata": {
            "tags": []
          },
          "execution_count": 98
        }
      ]
    },
    {
      "cell_type": "code",
      "metadata": {
        "id": "g9p4AKIWNVCC",
        "colab_type": "code",
        "colab": {}
      },
      "source": [
        "# Verify Category and Predition colum.\n",
        "test_df['Verify'] = test_df['Category'] == test_df['Predictions']"
      ],
      "execution_count": 0,
      "outputs": []
    },
    {
      "cell_type": "code",
      "metadata": {
        "id": "53Dc-G_OSoWz",
        "colab_type": "code",
        "outputId": "6c06973a-854a-4a2c-992c-a0b2d936a78c",
        "colab": {
          "base_uri": "https://localhost:8080/",
          "height": 206
        }
      },
      "source": [
        "test_df.head()"
      ],
      "execution_count": 0,
      "outputs": [
        {
          "output_type": "execute_result",
          "data": {
            "text/html": [
              "<div>\n",
              "<style scoped>\n",
              "    .dataframe tbody tr th:only-of-type {\n",
              "        vertical-align: middle;\n",
              "    }\n",
              "\n",
              "    .dataframe tbody tr th {\n",
              "        vertical-align: top;\n",
              "    }\n",
              "\n",
              "    .dataframe thead th {\n",
              "        text-align: right;\n",
              "    }\n",
              "</style>\n",
              "<table border=\"1\" class=\"dataframe\">\n",
              "  <thead>\n",
              "    <tr style=\"text-align: right;\">\n",
              "      <th></th>\n",
              "      <th>Unnamed: 0</th>\n",
              "      <th>Description</th>\n",
              "      <th>Category</th>\n",
              "      <th>Predictions</th>\n",
              "      <th>Verify</th>\n",
              "    </tr>\n",
              "  </thead>\n",
              "  <tbody>\n",
              "    <tr>\n",
              "      <th>0</th>\n",
              "      <td>1294</td>\n",
              "      <td>re secured area tower approved thank officer n...</td>\n",
              "      <td>User Maintenance</td>\n",
              "      <td>User Maintenance</td>\n",
              "      <td>True</td>\n",
              "    </tr>\n",
              "    <tr>\n",
              "      <th>1</th>\n",
              "      <td>670</td>\n",
              "      <td>re please tickets assign tickets please trees ...</td>\n",
              "      <td>Database</td>\n",
              "      <td>Application</td>\n",
              "      <td>False</td>\n",
              "    </tr>\n",
              "    <tr>\n",
              "      <th>2</th>\n",
              "      <td>1933</td>\n",
              "      <td>door open floor tower dear could you please fi...</td>\n",
              "      <td>Security</td>\n",
              "      <td>Network</td>\n",
              "      <td>False</td>\n",
              "    </tr>\n",
              "    <tr>\n",
              "      <th>3</th>\n",
              "      <td>1203</td>\n",
              "      <td>re card va se</td>\n",
              "      <td>User Maintenance</td>\n",
              "      <td>User Maintenance</td>\n",
              "      <td>True</td>\n",
              "    </tr>\n",
              "    <tr>\n",
              "      <th>4</th>\n",
              "      <td>65</td>\n",
              "      <td>old hi please old breakdown thank officer</td>\n",
              "      <td>Application</td>\n",
              "      <td>Application</td>\n",
              "      <td>True</td>\n",
              "    </tr>\n",
              "  </tbody>\n",
              "</table>\n",
              "</div>"
            ],
            "text/plain": [
              "   Unnamed: 0  ... Verify\n",
              "0        1294  ...   True\n",
              "1         670  ...  False\n",
              "2        1933  ...  False\n",
              "3        1203  ...   True\n",
              "4          65  ...   True\n",
              "\n",
              "[5 rows x 5 columns]"
            ]
          },
          "metadata": {
            "tags": []
          },
          "execution_count": 103
        }
      ]
    },
    {
      "cell_type": "code",
      "metadata": {
        "id": "2OEriDVuSpUN",
        "colab_type": "code",
        "outputId": "1e5462b8-f50e-4358-a96d-71793d45d8bf",
        "colab": {
          "base_uri": "https://localhost:8080/",
          "height": 35
        }
      },
      "source": [
        "totalValue = test_df.shape[0]\n",
        "trueValue = (test_df['Verify'] == True).sum()\n",
        "falseValue = (test_df['Verify'] == False).sum()\n",
        "\n",
        "print('Total False value is {} and True value is {} out of total test value {}.'.format(falseValue, trueValue, totalValue))"
      ],
      "execution_count": 0,
      "outputs": [
        {
          "output_type": "stream",
          "text": [
            "Total False value is 181 and True value is 419 out of total test value 600.\n"
          ],
          "name": "stdout"
        }
      ]
    },
    {
      "cell_type": "code",
      "metadata": {
        "id": "bpRnuqMOS8wc",
        "colab_type": "code",
        "outputId": "98878b0e-18a1-44e1-99e9-bb36b0bb4537",
        "colab": {
          "base_uri": "https://localhost:8080/",
          "height": 143
        }
      },
      "source": [
        "# pandas groupby\n",
        "test_df.groupby(('Verify')).count()"
      ],
      "execution_count": 0,
      "outputs": [
        {
          "output_type": "execute_result",
          "data": {
            "text/html": [
              "<div>\n",
              "<style scoped>\n",
              "    .dataframe tbody tr th:only-of-type {\n",
              "        vertical-align: middle;\n",
              "    }\n",
              "\n",
              "    .dataframe tbody tr th {\n",
              "        vertical-align: top;\n",
              "    }\n",
              "\n",
              "    .dataframe thead th {\n",
              "        text-align: right;\n",
              "    }\n",
              "</style>\n",
              "<table border=\"1\" class=\"dataframe\">\n",
              "  <thead>\n",
              "    <tr style=\"text-align: right;\">\n",
              "      <th></th>\n",
              "      <th>Unnamed: 0</th>\n",
              "      <th>Description</th>\n",
              "      <th>Category</th>\n",
              "      <th>Predictions</th>\n",
              "    </tr>\n",
              "    <tr>\n",
              "      <th>Verify</th>\n",
              "      <th></th>\n",
              "      <th></th>\n",
              "      <th></th>\n",
              "      <th></th>\n",
              "    </tr>\n",
              "  </thead>\n",
              "  <tbody>\n",
              "    <tr>\n",
              "      <th>False</th>\n",
              "      <td>181</td>\n",
              "      <td>181</td>\n",
              "      <td>181</td>\n",
              "      <td>181</td>\n",
              "    </tr>\n",
              "    <tr>\n",
              "      <th>True</th>\n",
              "      <td>419</td>\n",
              "      <td>419</td>\n",
              "      <td>419</td>\n",
              "      <td>419</td>\n",
              "    </tr>\n",
              "  </tbody>\n",
              "</table>\n",
              "</div>"
            ],
            "text/plain": [
              "        Unnamed: 0  Description  Category  Predictions\n",
              "Verify                                                \n",
              "False          181          181       181          181\n",
              "True           419          419       419          419"
            ]
          },
          "metadata": {
            "tags": []
          },
          "execution_count": 124
        }
      ]
    },
    {
      "cell_type": "code",
      "metadata": {
        "id": "XxQqMDG_Uoa0",
        "colab_type": "code",
        "colab": {}
      },
      "source": [
        ""
      ],
      "execution_count": 0,
      "outputs": []
    }
  ]
}