{
 "cells": [
  {
   "cell_type": "code",
   "execution_count": 102,
   "metadata": {},
   "outputs": [
    {
     "name": "stdout",
     "output_type": "stream",
     "text": [
      "2.0.0\n"
     ]
    }
   ],
   "source": [
    "import tensorflow as tf\n",
    "import pandas as pd\n",
    "import numpy as np\n",
    "\n",
    "print(tf.__version__)"
   ]
  },
  {
   "cell_type": "code",
   "execution_count": 103,
   "metadata": {},
   "outputs": [],
   "source": [
    "housing = pd.read_csv(\"data.csv\")"
   ]
  },
  {
   "cell_type": "code",
   "execution_count": 104,
   "metadata": {},
   "outputs": [
    {
     "data": {
      "text/html": [
       "<div>\n",
       "<style scoped>\n",
       "    .dataframe tbody tr th:only-of-type {\n",
       "        vertical-align: middle;\n",
       "    }\n",
       "\n",
       "    .dataframe tbody tr th {\n",
       "        vertical-align: top;\n",
       "    }\n",
       "\n",
       "    .dataframe thead th {\n",
       "        text-align: right;\n",
       "    }\n",
       "</style>\n",
       "<table border=\"1\" class=\"dataframe\">\n",
       "  <thead>\n",
       "    <tr style=\"text-align: right;\">\n",
       "      <th></th>\n",
       "      <th>CRIM</th>\n",
       "      <th>ZN</th>\n",
       "      <th>INDUS</th>\n",
       "      <th>CHAS</th>\n",
       "      <th>NOX</th>\n",
       "      <th>RM</th>\n",
       "      <th>AGE</th>\n",
       "      <th>DIS</th>\n",
       "      <th>RAD</th>\n",
       "      <th>TAX</th>\n",
       "      <th>PTRATIO</th>\n",
       "      <th>B</th>\n",
       "      <th>LSTAT</th>\n",
       "      <th>MEDV</th>\n",
       "    </tr>\n",
       "  </thead>\n",
       "  <tbody>\n",
       "    <tr>\n",
       "      <td>0</td>\n",
       "      <td>0.00632</td>\n",
       "      <td>18.0</td>\n",
       "      <td>2.31</td>\n",
       "      <td>0</td>\n",
       "      <td>0.538</td>\n",
       "      <td>6.575</td>\n",
       "      <td>65.2</td>\n",
       "      <td>4.0900</td>\n",
       "      <td>1</td>\n",
       "      <td>296</td>\n",
       "      <td>15.3</td>\n",
       "      <td>396.90</td>\n",
       "      <td>4.98</td>\n",
       "      <td>24.0</td>\n",
       "    </tr>\n",
       "    <tr>\n",
       "      <td>1</td>\n",
       "      <td>0.02731</td>\n",
       "      <td>0.0</td>\n",
       "      <td>7.07</td>\n",
       "      <td>0</td>\n",
       "      <td>0.469</td>\n",
       "      <td>6.421</td>\n",
       "      <td>78.9</td>\n",
       "      <td>4.9671</td>\n",
       "      <td>2</td>\n",
       "      <td>242</td>\n",
       "      <td>17.8</td>\n",
       "      <td>396.90</td>\n",
       "      <td>9.14</td>\n",
       "      <td>21.6</td>\n",
       "    </tr>\n",
       "    <tr>\n",
       "      <td>2</td>\n",
       "      <td>0.02729</td>\n",
       "      <td>0.0</td>\n",
       "      <td>7.07</td>\n",
       "      <td>0</td>\n",
       "      <td>0.469</td>\n",
       "      <td>7.185</td>\n",
       "      <td>61.1</td>\n",
       "      <td>4.9671</td>\n",
       "      <td>2</td>\n",
       "      <td>242</td>\n",
       "      <td>17.8</td>\n",
       "      <td>392.83</td>\n",
       "      <td>4.03</td>\n",
       "      <td>34.7</td>\n",
       "    </tr>\n",
       "    <tr>\n",
       "      <td>3</td>\n",
       "      <td>0.03237</td>\n",
       "      <td>0.0</td>\n",
       "      <td>2.18</td>\n",
       "      <td>0</td>\n",
       "      <td>0.458</td>\n",
       "      <td>6.998</td>\n",
       "      <td>45.8</td>\n",
       "      <td>6.0622</td>\n",
       "      <td>3</td>\n",
       "      <td>222</td>\n",
       "      <td>18.7</td>\n",
       "      <td>394.63</td>\n",
       "      <td>2.94</td>\n",
       "      <td>33.4</td>\n",
       "    </tr>\n",
       "    <tr>\n",
       "      <td>4</td>\n",
       "      <td>0.06905</td>\n",
       "      <td>0.0</td>\n",
       "      <td>2.18</td>\n",
       "      <td>0</td>\n",
       "      <td>0.458</td>\n",
       "      <td>7.147</td>\n",
       "      <td>54.2</td>\n",
       "      <td>6.0622</td>\n",
       "      <td>3</td>\n",
       "      <td>222</td>\n",
       "      <td>18.7</td>\n",
       "      <td>396.90</td>\n",
       "      <td>5.33</td>\n",
       "      <td>36.2</td>\n",
       "    </tr>\n",
       "  </tbody>\n",
       "</table>\n",
       "</div>"
      ],
      "text/plain": [
       "      CRIM    ZN  INDUS  CHAS    NOX     RM   AGE     DIS  RAD  TAX  PTRATIO  \\\n",
       "0  0.00632  18.0   2.31     0  0.538  6.575  65.2  4.0900    1  296     15.3   \n",
       "1  0.02731   0.0   7.07     0  0.469  6.421  78.9  4.9671    2  242     17.8   \n",
       "2  0.02729   0.0   7.07     0  0.469  7.185  61.1  4.9671    2  242     17.8   \n",
       "3  0.03237   0.0   2.18     0  0.458  6.998  45.8  6.0622    3  222     18.7   \n",
       "4  0.06905   0.0   2.18     0  0.458  7.147  54.2  6.0622    3  222     18.7   \n",
       "\n",
       "        B  LSTAT  MEDV  \n",
       "0  396.90   4.98  24.0  \n",
       "1  396.90   9.14  21.6  \n",
       "2  392.83   4.03  34.7  \n",
       "3  394.63   2.94  33.4  \n",
       "4  396.90   5.33  36.2  "
      ]
     },
     "execution_count": 104,
     "metadata": {},
     "output_type": "execute_result"
    }
   ],
   "source": [
    "housing.head()"
   ]
  },
  {
   "cell_type": "code",
   "execution_count": 105,
   "metadata": {},
   "outputs": [
    {
     "name": "stdout",
     "output_type": "stream",
     "text": [
      "<class 'pandas.core.frame.DataFrame'>\n",
      "RangeIndex: 506 entries, 0 to 505\n",
      "Data columns (total 14 columns):\n",
      "CRIM       506 non-null float64\n",
      "ZN         506 non-null float64\n",
      "INDUS      506 non-null float64\n",
      "CHAS       506 non-null int64\n",
      "NOX        506 non-null float64\n",
      "RM         501 non-null float64\n",
      "AGE        506 non-null float64\n",
      "DIS        506 non-null float64\n",
      "RAD        506 non-null int64\n",
      "TAX        506 non-null int64\n",
      "PTRATIO    506 non-null float64\n",
      "B          506 non-null float64\n",
      "LSTAT      506 non-null float64\n",
      "MEDV       506 non-null float64\n",
      "dtypes: float64(11), int64(3)\n",
      "memory usage: 55.5 KB\n"
     ]
    }
   ],
   "source": [
    "housing.info()"
   ]
  },
  {
   "cell_type": "code",
   "execution_count": 106,
   "metadata": {},
   "outputs": [],
   "source": [
    "#housing.describe()"
   ]
  },
  {
   "cell_type": "code",
   "execution_count": 107,
   "metadata": {},
   "outputs": [],
   "source": [
    "#housing.isna()"
   ]
  },
  {
   "cell_type": "code",
   "execution_count": 108,
   "metadata": {},
   "outputs": [
    {
     "data": {
      "text/plain": [
       "CRIM       0\n",
       "ZN         0\n",
       "INDUS      0\n",
       "CHAS       0\n",
       "NOX        0\n",
       "RM         5\n",
       "AGE        0\n",
       "DIS        0\n",
       "RAD        0\n",
       "TAX        0\n",
       "PTRATIO    0\n",
       "B          0\n",
       "LSTAT      0\n",
       "MEDV       0\n",
       "dtype: int64"
      ]
     },
     "execution_count": 108,
     "metadata": {},
     "output_type": "execute_result"
    }
   ],
   "source": [
    "housing.isna().sum()"
   ]
  },
  {
   "cell_type": "code",
   "execution_count": 109,
   "metadata": {},
   "outputs": [],
   "source": [
    "housing = housing.dropna()"
   ]
  },
  {
   "cell_type": "code",
   "execution_count": 110,
   "metadata": {},
   "outputs": [],
   "source": [
    "#bool_series = pd.isna(housing[\"CRIM\"])\n",
    "#housing[bool_series]"
   ]
  },
  {
   "cell_type": "code",
   "execution_count": 111,
   "metadata": {},
   "outputs": [
    {
     "data": {
      "text/plain": [
       "array([[<matplotlib.axes._subplots.AxesSubplot object at 0x0000018BAE067788>,\n",
       "        <matplotlib.axes._subplots.AxesSubplot object at 0x0000018BAE078808>,\n",
       "        <matplotlib.axes._subplots.AxesSubplot object at 0x0000018BAE0ACB08>,\n",
       "        <matplotlib.axes._subplots.AxesSubplot object at 0x0000018BAE0E2FC8>],\n",
       "       [<matplotlib.axes._subplots.AxesSubplot object at 0x0000018BAE11E608>,\n",
       "        <matplotlib.axes._subplots.AxesSubplot object at 0x0000018BAE1583C8>,\n",
       "        <matplotlib.axes._subplots.AxesSubplot object at 0x0000018BAE18AB08>,\n",
       "        <matplotlib.axes._subplots.AxesSubplot object at 0x0000018BAE1C8548>],\n",
       "       [<matplotlib.axes._subplots.AxesSubplot object at 0x0000018BAE1D6108>,\n",
       "        <matplotlib.axes._subplots.AxesSubplot object at 0x0000018BAE20C2C8>,\n",
       "        <matplotlib.axes._subplots.AxesSubplot object at 0x0000018BAE270888>,\n",
       "        <matplotlib.axes._subplots.AxesSubplot object at 0x0000018BAE2A9948>],\n",
       "       [<matplotlib.axes._subplots.AxesSubplot object at 0x0000018BAE2E0A88>,\n",
       "        <matplotlib.axes._subplots.AxesSubplot object at 0x0000018BAE319B88>,\n",
       "        <matplotlib.axes._subplots.AxesSubplot object at 0x0000018BAE352C88>,\n",
       "        <matplotlib.axes._subplots.AxesSubplot object at 0x0000018BAE38BE88>]],\n",
       "      dtype=object)"
      ]
     },
     "execution_count": 111,
     "metadata": {},
     "output_type": "execute_result"
    },
    {
     "data": {
      "image/png": "[encoded data removed]",
      "text/plain": [
       "<Figure size 1080x1440 with 16 Axes>"
      ]
     },
     "metadata": {
      "needs_background": "light"
     },
     "output_type": "display_data"
    }
   ],
   "source": [
    "housing.hist(figsize = (15,20))"
   ]
  },
  {
   "cell_type": "code",
   "execution_count": 112,
   "metadata": {},
   "outputs": [],
   "source": [
    "# Split csv to train and test data.\n",
    "\n",
    "# Normally the data split between test-train is 20%-80%.\n",
    "# In order to successfully implement a ML algo, \n",
    "# you need to be clear about how to split the data into testing and training.\n",
    "\n",
    "# sklearn for the train_test_split() function, which will be used for splitting the data into the two parts.\n",
    "from sklearn.model_selection import train_test_split"
   ]
  },
  {
   "cell_type": "code",
   "execution_count": 113,
   "metadata": {},
   "outputs": [],
   "source": [
    "# Now, we will be splitting the data into labels and features.\n",
    "# Labels are the data which we want to predict and features are the data which are used to predict labels.\n",
    "\n",
    "labels = housing.MEDV\n",
    "features = housing.drop('MEDV', axis=1)"
   ]
  },
  {
   "cell_type": "code",
   "execution_count": 114,
   "metadata": {},
   "outputs": [],
   "source": [
    "# splitting the data into train and test data\n",
    "X_train, X_test, y_train, y_test = train_test_split(features,labels,test_size=0.2,random_state=42)\n",
    "\n",
    "# test_size=0.20 which is used to indicate that the\n",
    "# test data should be 20% of the total data and rest 80% should be train data.\n",
    "\n",
    "#The training set is a subset of the data set used to train a model.\n",
    "\n",
    "    #x_train is the training data set.\n",
    "    #y_train is the set of labels to all the data in x_train.\n",
    "\n",
    "#The test set is a subset of the data set that you use to test your model after the model has gone through initial vetting by the validation set.\n",
    "\n",
    "    #x_test is the test data set.\n",
    "    #y_test is the set of labels to all the data in x_test.\n",
    "\n",
    "#The validation set is a subset of the data set (separate from the training set) that you use to adjust hyperparameters.\n",
    "\n",
    "    #The example you listed doesn't mention the validation set.\n",
    "    \n",
    "    \n",
    "# Unless specified to use random_state function, train_test_split will split arrays into random subsets."
   ]
  },
  {
   "cell_type": "code",
   "execution_count": 115,
   "metadata": {},
   "outputs": [
    {
     "name": "stdout",
     "output_type": "stream",
     "text": [
      "\n",
      "X_train:\n",
      "\n",
      "        CRIM    ZN  INDUS  CHAS    NOX     RM   AGE     DIS  RAD  TAX  \\\n",
      "391  5.29305   0.0  18.10     0  0.700  6.051  82.5  2.1678   24  666   \n",
      "20   1.25179   0.0   8.14     0  0.538  5.570  98.1  3.7979    4  307   \n",
      "327  0.24103   0.0   7.38     0  0.493  6.083  43.7  5.4159    5  287   \n",
      "337  0.03041   0.0   5.19     0  0.515  5.895  59.6  5.6150    5  224   \n",
      "58   0.15445  25.0   5.13     0  0.453  6.145  29.2  7.8148    8  284   \n",
      "\n",
      "     PTRATIO       B  LSTAT  \n",
      "391     20.2  378.38  18.76  \n",
      "20      21.0  376.57  21.02  \n",
      "327     19.6  396.90  12.79  \n",
      "337     20.2  394.81  10.56  \n",
      "58      19.7  390.68   6.86  \n",
      "(400, 13)\n"
     ]
    }
   ],
   "source": [
    "print(\"\\nX_train:\\n\")\n",
    "print(X_train.head())\n",
    "print(X_train.shape)"
   ]
  },
  {
   "cell_type": "code",
   "execution_count": 116,
   "metadata": {},
   "outputs": [
    {
     "name": "stdout",
     "output_type": "stream",
     "text": [
      "\n",
      "y_train:\n",
      "\n",
      "391    23.2\n",
      "20     13.6\n",
      "327    22.2\n",
      "337    18.5\n",
      "58     23.3\n",
      "Name: MEDV, dtype: float64\n",
      "(400,)\n"
     ]
    }
   ],
   "source": [
    "print(\"\\ny_train:\\n\")\n",
    "print(y_train.head())\n",
    "print(y_train.shape)"
   ]
  },
  {
   "cell_type": "code",
   "execution_count": 117,
   "metadata": {},
   "outputs": [
    {
     "name": "stdout",
     "output_type": "stream",
     "text": [
      "\n",
      "X_test:\n",
      "\n",
      "         CRIM   ZN  INDUS  CHAS    NOX     RM    AGE     DIS  RAD  TAX  \\\n",
      "367  13.52220  0.0  18.10     0  0.631  3.863  100.0  1.5106   24  666   \n",
      "76    0.10153  0.0  12.83     0  0.437  6.279   74.5  4.0522    5  398   \n",
      "380  88.97620  0.0  18.10     0  0.671  6.968   91.9  1.4165   24  666   \n",
      "160   1.27346  0.0  19.58     1  0.605  6.250   92.6  1.7984    5  403   \n",
      "108   0.12802  0.0   8.56     0  0.520  6.474   97.1  2.4329    5  384   \n",
      "\n",
      "     PTRATIO       B  LSTAT  \n",
      "367     20.2  131.42  13.33  \n",
      "76      18.7  373.66  11.97  \n",
      "380     20.2  396.90  17.21  \n",
      "160     14.7  338.92   5.50  \n",
      "108     20.9  395.24  12.27  \n",
      "(101, 13)\n"
     ]
    }
   ],
   "source": [
    "print(\"\\nX_test:\\n\")\n",
    "print(X_test.head())\n",
    "print(X_test.shape)"
   ]
  },
  {
   "cell_type": "code",
   "execution_count": 118,
   "metadata": {},
   "outputs": [
    {
     "name": "stdout",
     "output_type": "stream",
     "text": [
      "\n",
      "y_test:\n",
      "\n",
      "367    23.1\n",
      "76     20.0\n",
      "380    10.4\n",
      "160    27.0\n",
      "108    19.8\n",
      "Name: MEDV, dtype: float64\n",
      "(101,)\n"
     ]
    }
   ],
   "source": [
    "print(\"\\ny_test:\\n\")\n",
    "print(y_test.head())\n",
    "print(y_test.shape)"
   ]
  },
  {
   "cell_type": "code",
   "execution_count": 119,
   "metadata": {},
   "outputs": [
    {
     "name": "stdout",
     "output_type": "stream",
     "text": [
      "<class 'pandas.core.frame.DataFrame'>\n",
      "Int64Index: 501 entries, 0 to 505\n",
      "Data columns (total 14 columns):\n",
      "CRIM       501 non-null float64\n",
      "ZN         501 non-null float64\n",
      "INDUS      501 non-null float64\n",
      "CHAS       501 non-null int64\n",
      "NOX        501 non-null float64\n",
      "RM         501 non-null float64\n",
      "AGE        501 non-null float64\n",
      "DIS        501 non-null float64\n",
      "RAD        501 non-null int64\n",
      "TAX        501 non-null int64\n",
      "PTRATIO    501 non-null float64\n",
      "B          501 non-null float64\n",
      "LSTAT      501 non-null float64\n",
      "MEDV       501 non-null float64\n",
      "dtypes: float64(11), int64(3)\n",
      "memory usage: 58.7 KB\n"
     ]
    }
   ],
   "source": [
    "housing.info()"
   ]
  },
  {
   "cell_type": "code",
   "execution_count": 120,
   "metadata": {},
   "outputs": [
    {
     "name": "stdout",
     "output_type": "stream",
     "text": [
      "(400, 13) (400,)\n",
      "(101, 13) (101,)\n"
     ]
    }
   ],
   "source": [
    "print(X_train.shape, y_train.shape)\n",
    "print(X_test.shape, y_test.shape)"
   ]
  },
  {
   "cell_type": "code",
   "execution_count": 121,
   "metadata": {},
   "outputs": [],
   "source": [
    "corr_matrix = housing.corr()"
   ]
  },
  {
   "cell_type": "code",
   "execution_count": 122,
   "metadata": {},
   "outputs": [
    {
     "data": {
      "text/plain": [
       "MEDV       1.000000\n",
       "RM         0.696169\n",
       "ZN         0.360031\n",
       "B          0.335387\n",
       "DIS        0.251709\n",
       "CHAS       0.174679\n",
       "AGE       -0.375437\n",
       "RAD       -0.384730\n",
       "CRIM      -0.390251\n",
       "NOX       -0.428812\n",
       "TAX       -0.471253\n",
       "INDUS     -0.486625\n",
       "PTRATIO   -0.511897\n",
       "LSTAT     -0.737720\n",
       "Name: MEDV, dtype: float64"
      ]
     },
     "execution_count": 122,
     "metadata": {},
     "output_type": "execute_result"
    }
   ],
   "source": [
    "corr_matrix['MEDV'].sort_values(ascending=False)\n",
    "# When it is close to 1, it means that there is a strong positive correlation.\n",
    "# When the coefficient is close to –1, it means that there is a strong negative correlation.\n",
    "# coefficients close to zero mean that there is no linear correlation."
   ]
  },
  {
   "cell_type": "code",
   "execution_count": 123,
   "metadata": {},
   "outputs": [],
   "source": [
    "from sklearn.linear_model import LinearRegression\n",
    "\n",
    "model = LinearRegression()"
   ]
  },
  {
   "cell_type": "code",
   "execution_count": 124,
   "metadata": {},
   "outputs": [
    {
     "data": {
      "text/plain": [
       "LinearRegression(copy_X=True, fit_intercept=True, n_jobs=None, normalize=False)"
      ]
     },
     "execution_count": 124,
     "metadata": {},
     "output_type": "execute_result"
    }
   ],
   "source": [
    "model.fit(X_train, y_train)"
   ]
  },
  {
   "cell_type": "code",
   "execution_count": 125,
   "metadata": {},
   "outputs": [],
   "source": [
    "predictions = model.predict(X_test)"
   ]
  },
  {
   "cell_type": "code",
   "execution_count": 126,
   "metadata": {},
   "outputs": [
    {
     "data": {
      "text/plain": [
       "array([10.18296392, 22.90028638, 15.7250715 , 32.8687425 , 23.06305477])"
      ]
     },
     "execution_count": 126,
     "metadata": {},
     "output_type": "execute_result"
    }
   ],
   "source": [
    "predictions[0:5]"
   ]
  },
  {
   "cell_type": "code",
   "execution_count": 127,
   "metadata": {},
   "outputs": [
    {
     "data": {
      "text/plain": [
       "Text(0, 0.5, 'Predictions')"
      ]
     },
     "execution_count": 127,
     "metadata": {},
     "output_type": "execute_result"
    },
    {
     "data": {
      "image/png": "[encoded data removed]",
      "text/plain": [
       "<Figure size 432x288 with 1 Axes>"
      ]
     },
     "metadata": {
      "needs_background": "light"
     },
     "output_type": "display_data"
    }
   ],
   "source": [
    "import matplotlib.pyplot as plt\n",
    "\n",
    "plt.scatter(y_test, predictions)\n",
    "plt.xlabel(\"True Values\")\n",
    "plt.ylabel(\"Predictions\")"
   ]
  },
  {
   "cell_type": "code",
   "execution_count": 128,
   "metadata": {},
   "outputs": [
    {
     "name": "stdout",
     "output_type": "stream",
     "text": [
      "Score: 0.7200277678580305\n"
     ]
    }
   ],
   "source": [
    "print(\"Score:\", model.score(X_test, y_test))"
   ]
  },
  {
   "cell_type": "code",
   "execution_count": null,
   "metadata": {},
   "outputs": [],
   "source": []
  }
 ],
 "metadata": {
  "kernelspec": {
   "display_name": "Python 3",
   "language": "python",
   "name": "python3"
  },
  "language_info": {
   "codemirror_mode": {
    "name": "ipython",
    "version": 3
   },
   "file_extension": ".py",
   "mimetype": "text/x-python",
   "name": "python",
   "nbconvert_exporter": "python",
   "pygments_lexer": "ipython3",
   "version": "3.7.4"
  }
 },
 "nbformat": 4,
 "nbformat_minor": 2
}
